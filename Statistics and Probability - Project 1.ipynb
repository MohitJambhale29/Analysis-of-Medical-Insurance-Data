{
 "cells": [
  {
   "cell_type": "markdown",
   "id": "6780e60a",
   "metadata": {},
   "source": [
    "# Statistics and Probability for Data Sciences Challenges \n",
    "# Project 1"
   ]
  },
  {
   "cell_type": "code",
   "execution_count": 3,
   "id": "d808690e",
   "metadata": {},
   "outputs": [],
   "source": [
    "import pandas as pd\n",
    "import numpy as np\n",
    "import seaborn as sns\n",
    "import warnings\n",
    "from scipy import stats\n",
    "from scipy.stats import norm\n",
    "from scipy.stats import chi2_contingency\n",
    "from sklearn.linear_model import LinearRegression\n",
    "from sklearn.preprocessing import LabelEncoder\n",
    "from sklearn.model_selection import train_test_split\n",
    "from sklearn.metrics import mean_squared_error\n",
    "from sklearn.metrics import r2_score\n",
    "from sklearn.ensemble import RandomForestRegressor\n",
    "# load data\n",
    "df =pd.read_csv(\".\\insurance.csv\") # Load the dataset"
   ]
  },
  {
   "cell_type": "markdown",
   "id": "c93da48e",
   "metadata": {},
   "source": [
    "## 1. Explain the data. Check It is supervised or Unsupervised. Demonstrate?\n",
    "\n",
    "The data consists of insurance charges for various individuals and their demographic and lifestyle information. The variables in the dataset are:\n",
    "\n",
    "* age: age of the primary beneficiary\n",
    "* sex: gender of the primary beneficiary (male or female)\n",
    "* bmi: body mass index of the primary beneficiary\n",
    "* children: number of children covered by the insurance plan\n",
    "* smoker: whether the primary beneficiary is a smoker or not (yes or no)\n",
    "* region: the beneficiary's residential area in the US (northeast, northwest, southeast, southwest)\n",
    "* charges: individual medical costs billed by health insurance\n",
    "\n",
    "This is a supervised learning dataset because it has a target variable (charges) that needs to be predicted using the other variables as predictors\n",
    "\n",
    "## 2. Estimate the minimum sample size n to get the 99% accurate predictions. (precision = 0.02)\n",
    "\n",
    "To estimate the minimum sample size n to get 99% accurate predictions with a precision of 0.02, \n",
    "we need to use the formula:\n",
    "\n",
    "n = (z-score)^2 * (stddev^2) / (margin of error)^2"
   ]
  },
  {
   "cell_type": "code",
   "execution_count": 4,
   "id": "843b1b69",
   "metadata": {},
   "outputs": [
    {
     "name": "stdout",
     "output_type": "stream",
     "text": [
      "Minimum sample size: 619\n"
     ]
    }
   ],
   "source": [
    "std_dev = np.std(df['charges']) # Get the standard deviation of the target variable\n",
    "range_ = np.max(df['charges']) - np.min(df['charges']) # Calculate the range of the target variable\n",
    "margin_of_error = 0.02 * range_ # Calculate the margin of error\n",
    "z_score = norm.ppf(0.995) # Calculate the z-score for a 99% confidence level\n",
    "n = (z_score**2 * std_dev**2) / margin_of_error**2 # Calculate the minimum sample size\n",
    "\n",
    "print(\"Minimum sample size:\", int(n))"
   ]
  },
  {
   "cell_type": "markdown",
   "id": "94dfefec",
   "metadata": {},
   "source": [
    "Therefore, the minimum sample size required to get 99% accurate predictions with a precision of 0.02 is 619."
   ]
  },
  {
   "cell_type": "markdown",
   "id": "8b7246c0",
   "metadata": {},
   "source": [
    "## 3. Check the data is cleaned or not. If not then clean it (Null values, Row/Column Duplicates, Outliers, Change the string into numbers)\n",
    "\n",
    "To check if the data is cleaned or not, we need to perform some data cleaning tasks\n",
    "\n",
    "* Check for null values:"
   ]
  },
  {
   "cell_type": "code",
   "execution_count": 5,
   "id": "942c2b8d",
   "metadata": {},
   "outputs": [
    {
     "name": "stdout",
     "output_type": "stream",
     "text": [
      "age         0\n",
      "sex         0\n",
      "bmi         0\n",
      "children    0\n",
      "smoker      0\n",
      "region      0\n",
      "charges     0\n",
      "dtype: int64\n"
     ]
    }
   ],
   "source": [
    "print(df.isnull().sum())"
   ]
  },
  {
   "cell_type": "markdown",
   "id": "3279b007",
   "metadata": {},
   "source": [
    "There are no null values in the dataset\n",
    "* Check for duplicates:"
   ]
  },
  {
   "cell_type": "code",
   "execution_count": 6,
   "id": "a0b09bb2",
   "metadata": {},
   "outputs": [
    {
     "name": "stdout",
     "output_type": "stream",
     "text": [
      "No of rows duplicated: 1\n",
      "Total no of rows: 1338\n",
      "Total no of rows after removing duplicate rows: 1337\n"
     ]
    }
   ],
   "source": [
    "print(\"No of rows duplicated:\",df.duplicated().sum())\n",
    "print(\"Total no of rows:\",len(df))\n",
    "df = df.drop_duplicates()\n",
    "print(\"Total no of rows after removing duplicate rows:\",len(df))"
   ]
  },
  {
   "cell_type": "markdown",
   "id": "ababbb78",
   "metadata": {},
   "source": [
    "There is only one duplicate row and it was deleted from the dataset.\n",
    "\n",
    "* Check for outliers:"
   ]
  },
  {
   "cell_type": "code",
   "execution_count": 7,
   "id": "77024e34",
   "metadata": {},
   "outputs": [
    {
     "name": "stdout",
     "output_type": "stream",
     "text": [
      "Total no of rows: 1337\n",
      "Total no of rows after removing duplicate rows: 1330\n"
     ]
    }
   ],
   "source": [
    "print(\"Total no of rows:\",len(df))\n",
    "df = df[np.abs(df['charges'] - df['charges'].mean()) <= (3 * df['charges'].std())]\n",
    "print(\"Total no of rows after removing duplicate rows:\",len(df))"
   ]
  },
  {
   "cell_type": "markdown",
   "id": "9f487b5c",
   "metadata": {},
   "source": [
    "There are some outliers they were removed\n",
    "\n",
    "* Change the string into numbers:"
   ]
  },
  {
   "cell_type": "code",
   "execution_count": 8,
   "id": "2dba9a69",
   "metadata": {},
   "outputs": [
    {
     "data": {
      "text/html": [
       "<div>\n",
       "<style scoped>\n",
       "    .dataframe tbody tr th:only-of-type {\n",
       "        vertical-align: middle;\n",
       "    }\n",
       "\n",
       "    .dataframe tbody tr th {\n",
       "        vertical-align: top;\n",
       "    }\n",
       "\n",
       "    .dataframe thead th {\n",
       "        text-align: right;\n",
       "    }\n",
       "</style>\n",
       "<table border=\"1\" class=\"dataframe\">\n",
       "  <thead>\n",
       "    <tr style=\"text-align: right;\">\n",
       "      <th></th>\n",
       "      <th>age</th>\n",
       "      <th>sex</th>\n",
       "      <th>bmi</th>\n",
       "      <th>children</th>\n",
       "      <th>smoker</th>\n",
       "      <th>region</th>\n",
       "      <th>charges</th>\n",
       "    </tr>\n",
       "  </thead>\n",
       "  <tbody>\n",
       "    <tr>\n",
       "      <th>0</th>\n",
       "      <td>19</td>\n",
       "      <td>0</td>\n",
       "      <td>27.900</td>\n",
       "      <td>0</td>\n",
       "      <td>1</td>\n",
       "      <td>southwest</td>\n",
       "      <td>16884.92400</td>\n",
       "    </tr>\n",
       "    <tr>\n",
       "      <th>1</th>\n",
       "      <td>18</td>\n",
       "      <td>1</td>\n",
       "      <td>33.770</td>\n",
       "      <td>1</td>\n",
       "      <td>0</td>\n",
       "      <td>southeast</td>\n",
       "      <td>1725.55230</td>\n",
       "    </tr>\n",
       "    <tr>\n",
       "      <th>2</th>\n",
       "      <td>28</td>\n",
       "      <td>1</td>\n",
       "      <td>33.000</td>\n",
       "      <td>3</td>\n",
       "      <td>0</td>\n",
       "      <td>southeast</td>\n",
       "      <td>4449.46200</td>\n",
       "    </tr>\n",
       "    <tr>\n",
       "      <th>3</th>\n",
       "      <td>33</td>\n",
       "      <td>1</td>\n",
       "      <td>22.705</td>\n",
       "      <td>0</td>\n",
       "      <td>0</td>\n",
       "      <td>northwest</td>\n",
       "      <td>21984.47061</td>\n",
       "    </tr>\n",
       "    <tr>\n",
       "      <th>4</th>\n",
       "      <td>32</td>\n",
       "      <td>1</td>\n",
       "      <td>28.880</td>\n",
       "      <td>0</td>\n",
       "      <td>0</td>\n",
       "      <td>northwest</td>\n",
       "      <td>3866.85520</td>\n",
       "    </tr>\n",
       "    <tr>\n",
       "      <th>...</th>\n",
       "      <td>...</td>\n",
       "      <td>...</td>\n",
       "      <td>...</td>\n",
       "      <td>...</td>\n",
       "      <td>...</td>\n",
       "      <td>...</td>\n",
       "      <td>...</td>\n",
       "    </tr>\n",
       "    <tr>\n",
       "      <th>1333</th>\n",
       "      <td>50</td>\n",
       "      <td>1</td>\n",
       "      <td>30.970</td>\n",
       "      <td>3</td>\n",
       "      <td>0</td>\n",
       "      <td>northwest</td>\n",
       "      <td>10600.54830</td>\n",
       "    </tr>\n",
       "    <tr>\n",
       "      <th>1334</th>\n",
       "      <td>18</td>\n",
       "      <td>0</td>\n",
       "      <td>31.920</td>\n",
       "      <td>0</td>\n",
       "      <td>0</td>\n",
       "      <td>northeast</td>\n",
       "      <td>2205.98080</td>\n",
       "    </tr>\n",
       "    <tr>\n",
       "      <th>1335</th>\n",
       "      <td>18</td>\n",
       "      <td>0</td>\n",
       "      <td>36.850</td>\n",
       "      <td>0</td>\n",
       "      <td>0</td>\n",
       "      <td>southeast</td>\n",
       "      <td>1629.83350</td>\n",
       "    </tr>\n",
       "    <tr>\n",
       "      <th>1336</th>\n",
       "      <td>21</td>\n",
       "      <td>0</td>\n",
       "      <td>25.800</td>\n",
       "      <td>0</td>\n",
       "      <td>0</td>\n",
       "      <td>southwest</td>\n",
       "      <td>2007.94500</td>\n",
       "    </tr>\n",
       "    <tr>\n",
       "      <th>1337</th>\n",
       "      <td>61</td>\n",
       "      <td>0</td>\n",
       "      <td>29.070</td>\n",
       "      <td>0</td>\n",
       "      <td>1</td>\n",
       "      <td>northwest</td>\n",
       "      <td>29141.36030</td>\n",
       "    </tr>\n",
       "  </tbody>\n",
       "</table>\n",
       "<p>1330 rows × 7 columns</p>\n",
       "</div>"
      ],
      "text/plain": [
       "      age  sex     bmi  children  smoker     region      charges\n",
       "0      19    0  27.900         0       1  southwest  16884.92400\n",
       "1      18    1  33.770         1       0  southeast   1725.55230\n",
       "2      28    1  33.000         3       0  southeast   4449.46200\n",
       "3      33    1  22.705         0       0  northwest  21984.47061\n",
       "4      32    1  28.880         0       0  northwest   3866.85520\n",
       "...   ...  ...     ...       ...     ...        ...          ...\n",
       "1333   50    1  30.970         3       0  northwest  10600.54830\n",
       "1334   18    0  31.920         0       0  northeast   2205.98080\n",
       "1335   18    0  36.850         0       0  southeast   1629.83350\n",
       "1336   21    0  25.800         0       0  southwest   2007.94500\n",
       "1337   61    0  29.070         0       1  northwest  29141.36030\n",
       "\n",
       "[1330 rows x 7 columns]"
      ]
     },
     "execution_count": 8,
     "metadata": {},
     "output_type": "execute_result"
    }
   ],
   "source": [
    "df['smoker'] = df['smoker'].apply(lambda x: 1 if x == 'yes' else 0)\n",
    "df['sex'] = df['sex'].apply(lambda x: 1 if x == 'male' else 0)\n",
    "df"
   ]
  },
  {
   "cell_type": "markdown",
   "id": "457023e3",
   "metadata": {},
   "source": [
    "## 4. Check that sex and smoking are statistically independent or not."
   ]
  },
  {
   "cell_type": "code",
   "execution_count": 9,
   "id": "2eb5771f",
   "metadata": {},
   "outputs": [
    {
     "name": "stdout",
     "output_type": "stream",
     "text": [
      "The two variables are dependent.\n"
     ]
    }
   ],
   "source": [
    "observed = pd.crosstab(df['sex'], df['smoker'])\n",
    "chi2, p, dof, expected = chi2_contingency(observed)\n",
    "\n",
    "if p < 0.05:\n",
    "    print(\"The two variables are dependent.\")\n",
    "else:\n",
    "    print(\"The two variables are independent.\")"
   ]
  },
  {
   "cell_type": "markdown",
   "id": "f4259b12",
   "metadata": {},
   "source": [
    "## 5. Check that all regressor variables (independent variable) are independent of each other or not\n",
    "\n",
    "To check if all the regressor variables are independent of each other, we can calculate the correlation matrix of the dataset using the pandas library in Python"
   ]
  },
  {
   "cell_type": "code",
   "execution_count": 10,
   "id": "cebf4496",
   "metadata": {},
   "outputs": [
    {
     "data": {
      "text/html": [
       "<div>\n",
       "<style scoped>\n",
       "    .dataframe tbody tr th:only-of-type {\n",
       "        vertical-align: middle;\n",
       "    }\n",
       "\n",
       "    .dataframe tbody tr th {\n",
       "        vertical-align: top;\n",
       "    }\n",
       "\n",
       "    .dataframe thead th {\n",
       "        text-align: right;\n",
       "    }\n",
       "</style>\n",
       "<table border=\"1\" class=\"dataframe\">\n",
       "  <thead>\n",
       "    <tr style=\"text-align: right;\">\n",
       "      <th></th>\n",
       "      <th>age</th>\n",
       "      <th>sex</th>\n",
       "      <th>bmi</th>\n",
       "      <th>children</th>\n",
       "      <th>smoker</th>\n",
       "      <th>charges</th>\n",
       "    </tr>\n",
       "  </thead>\n",
       "  <tbody>\n",
       "    <tr>\n",
       "      <th>age</th>\n",
       "      <td>1.000000</td>\n",
       "      <td>-0.021379</td>\n",
       "      <td>0.108408</td>\n",
       "      <td>0.042260</td>\n",
       "      <td>-0.028943</td>\n",
       "      <td>0.303853</td>\n",
       "    </tr>\n",
       "    <tr>\n",
       "      <th>sex</th>\n",
       "      <td>-0.021379</td>\n",
       "      <td>1.000000</td>\n",
       "      <td>0.048938</td>\n",
       "      <td>0.016731</td>\n",
       "      <td>0.076195</td>\n",
       "      <td>0.058287</td>\n",
       "    </tr>\n",
       "    <tr>\n",
       "      <th>bmi</th>\n",
       "      <td>0.108408</td>\n",
       "      <td>0.048938</td>\n",
       "      <td>1.000000</td>\n",
       "      <td>0.014859</td>\n",
       "      <td>-0.006162</td>\n",
       "      <td>0.187123</td>\n",
       "    </tr>\n",
       "    <tr>\n",
       "      <th>children</th>\n",
       "      <td>0.042260</td>\n",
       "      <td>0.016731</td>\n",
       "      <td>0.014859</td>\n",
       "      <td>1.000000</td>\n",
       "      <td>0.010746</td>\n",
       "      <td>0.076377</td>\n",
       "    </tr>\n",
       "    <tr>\n",
       "      <th>smoker</th>\n",
       "      <td>-0.028943</td>\n",
       "      <td>0.076195</td>\n",
       "      <td>-0.006162</td>\n",
       "      <td>0.010746</td>\n",
       "      <td>1.000000</td>\n",
       "      <td>0.785604</td>\n",
       "    </tr>\n",
       "    <tr>\n",
       "      <th>charges</th>\n",
       "      <td>0.303853</td>\n",
       "      <td>0.058287</td>\n",
       "      <td>0.187123</td>\n",
       "      <td>0.076377</td>\n",
       "      <td>0.785604</td>\n",
       "      <td>1.000000</td>\n",
       "    </tr>\n",
       "  </tbody>\n",
       "</table>\n",
       "</div>"
      ],
      "text/plain": [
       "               age       sex       bmi  children    smoker   charges\n",
       "age       1.000000 -0.021379  0.108408  0.042260 -0.028943  0.303853\n",
       "sex      -0.021379  1.000000  0.048938  0.016731  0.076195  0.058287\n",
       "bmi       0.108408  0.048938  1.000000  0.014859 -0.006162  0.187123\n",
       "children  0.042260  0.016731  0.014859  1.000000  0.010746  0.076377\n",
       "smoker   -0.028943  0.076195 -0.006162  0.010746  1.000000  0.785604\n",
       "charges   0.303853  0.058287  0.187123  0.076377  0.785604  1.000000"
      ]
     },
     "execution_count": 10,
     "metadata": {},
     "output_type": "execute_result"
    }
   ],
   "source": [
    "corr_matrix = df.corr()\n",
    "\n",
    "corr_matrix"
   ]
  },
  {
   "cell_type": "markdown",
   "id": "7591e8fb",
   "metadata": {},
   "source": [
    "## 6. Check the dependency between response and regressors.\n",
    "\n",
    "To check the dependency between the response and regressor variables, we can use a scatter plot to visualize the relationship between each independent variable and the dependent variable (charges). We can also calculate the correlation coefficient between each independent variable and the dependent variable to see if there is a linear relationship between them."
   ]
  },
  {
   "cell_type": "code",
   "execution_count": 11,
   "id": "54efbe61",
   "metadata": {},
   "outputs": [
    {
     "data": {
      "text/plain": [
       "<seaborn.axisgrid.PairGrid at 0x156317bd580>"
      ]
     },
     "execution_count": 11,
     "metadata": {},
     "output_type": "execute_result"
    },
    {
     "data": {
      "image/png": "[encoded data removed]",
      "text/plain": [
       "<Figure size 1500x250 with 6 Axes>"
      ]
     },
     "metadata": {},
     "output_type": "display_data"
    }
   ],
   "source": [
    "sns.pairplot(df, x_vars=[\"age\", \"sex\", \"bmi\", \"children\", \"smoker\", \"region\"], y_vars=[\"charges\"])"
   ]
  },
  {
   "cell_type": "markdown",
   "id": "a98f63f6",
   "metadata": {},
   "source": [
    "## 7. Predict the regression Line to predict the charges for insurance using independent variables.\n",
    "\n",
    "To predict the charges for insurance using independent variables, we can use multiple linear regression. The independent variables in this case are age, sex, BMI, children, smoker status, and region. We can use Python's scikit-learn library to build a linear regression model"
   ]
  },
  {
   "cell_type": "code",
   "execution_count": 12,
   "id": "6ba08d44",
   "metadata": {},
   "outputs": [
    {
     "name": "stdout",
     "output_type": "stream",
     "text": [
      "Coefficients: \n",
      " [  255.43904972  -106.68453811   313.90392044   515.21044085\n",
      " 23215.22641247  -349.89914531]\n",
      "\n",
      "So the regression line is:\n",
      "\n",
      "charges = (255.439) * age + (-106.685) * sex + (313.904) * bmi + (515.210) * children + (23215.226) * smoker + (-349.899) * region\n"
     ]
    }
   ],
   "source": [
    "# encode categorical variables\n",
    "le = LabelEncoder()\n",
    "df['sex'] = le.fit_transform(df['sex'])\n",
    "df['smoker'] = le.fit_transform(df['smoker'])\n",
    "df['region'] = le.fit_transform(df['region'])\n",
    "\n",
    "# create X (independent variables) and y (dependent variable) arrays\n",
    "X = df[['age', 'sex', 'bmi', 'children', 'smoker', 'region']]\n",
    "y = df['charges']\n",
    "\n",
    "# create and fit the linear regression model\n",
    "model = LinearRegression()\n",
    "model.fit(X, y)\n",
    "\n",
    "# print the coefficients (regression line)\n",
    "print('Coefficients: \\n', model.coef_)\n",
    "print(\"\\nSo the regression line is:\\n\")\n",
    "print(\"charges = ({:.3f}) * age + ({:.3f}) * sex + ({:.3f}) * bmi + ({:.3f}) * children + ({:.3f}) * smoker + ({:.3f}) * region\".\n",
    "      format(float(model.coef_[0]),float(model.coef_[1]),float(model.coef_[2]),float(model.coef_[3]),float(model.coef_[4]),float(model.coef_[5])))"
   ]
  },
  {
   "cell_type": "markdown",
   "id": "fa9b461f",
   "metadata": {},
   "source": [
    "## 8. Predict the accuracy of the regression Model."
   ]
  },
  {
   "cell_type": "code",
   "execution_count": 13,
   "id": "3c6524cc",
   "metadata": {},
   "outputs": [
    {
     "name": "stdout",
     "output_type": "stream",
     "text": [
      "R-squared score: 0.7270533980679407\n"
     ]
    }
   ],
   "source": [
    "# Load data\n",
    "data =df\n",
    "\n",
    "# Convert categorical data into numerical data using one-hot encoding\n",
    "data = pd.get_dummies(data, columns=[\"region\"])\n",
    "\n",
    "# Split data into features and target\n",
    "X = data.drop(\"charges\", axis=1)\n",
    "y = data[\"charges\"]\n",
    "\n",
    "# Split data into training and testing sets\n",
    "X_train, X_test, y_train, y_test = train_test_split(X, y, test_size=0.2, random_state=42)\n",
    "\n",
    "# Create linear regression model and fit it to the training data\n",
    "model = LinearRegression()\n",
    "model.fit(X_train, y_train)\n",
    "\n",
    "# Make predictions on the testing data\n",
    "y_pred = model.predict(X_test)\n",
    "\n",
    "# Calculate R-squared score\n",
    "r2 = r2_score(y_test, y_pred)\n",
    "\n",
    "print(\"R-squared score:\", r2)"
   ]
  },
  {
   "cell_type": "markdown",
   "id": "ba233c10",
   "metadata": {},
   "source": [
    "## 9. Predict insurance charge for Age = 29, Sex = F, bmi = 28, children = 1, Smoke = Yes, region = southeast."
   ]
  },
  {
   "cell_type": "code",
   "execution_count": 14,
   "id": "a6356668",
   "metadata": {},
   "outputs": [
    {
     "name": "stdout",
     "output_type": "stream",
     "text": [
      "[19114.8186597]\n"
     ]
    }
   ],
   "source": [
    "# load data\n",
    "data = df\n",
    "warnings.simplefilter('ignore', FutureWarning)\n",
    "# convert categorical variables to numerical\n",
    "data[\"sex\"] = data[\"sex\"].replace({\"male\": 1, \"female\": 0})\n",
    "data[\"smoker\"] = data[\"smoker\"].replace({\"yes\": 1, \"no\": 0})\n",
    "data = pd.get_dummies(data, columns=[\"region\"])\n",
    "\n",
    "# define X and y\n",
    "X = data.drop(\"charges\", axis=1)\n",
    "y = data[\"charges\"]\n",
    "# train model\n",
    "model = RandomForestRegressor()\n",
    "model.fit(X, y)\n",
    "\n",
    "# define new customer\n",
    "new_customer = pd.DataFrame({\n",
    "    \"age\": [29],\n",
    "    \"sex\": [0],\n",
    "    \"bmi\": [28],\n",
    "    \"children\": [1],\n",
    "    \"smoker\": [1],\n",
    "    \"region_northeast\": [0],\n",
    "    \"region_northwest\": [0],\n",
    "    \"region_southeast\": [1],\n",
    "    \"region_southwest\": [0]\n",
    "})\n",
    "\n",
    "# predict charges for new customer\n",
    "charges = model.predict(new_customer)\n",
    "print(charges)"
   ]
  },
  {
   "cell_type": "markdown",
   "id": "887057bd",
   "metadata": {},
   "source": [
    "## 10. Give the percentage of error in regression model."
   ]
  },
  {
   "cell_type": "code",
   "execution_count": 15,
   "id": "ccf47255",
   "metadata": {},
   "outputs": [
    {
     "name": "stdout",
     "output_type": "stream",
     "text": [
      "Root Mean Squared Error: 6200.405814026323\n",
      "Percentage Error: 45.69150329989346\n"
     ]
    }
   ],
   "source": [
    "# Define the features and target variable\n",
    "X = df[['age', 'sex', 'bmi', 'children', 'smoker', 'region']]\n",
    "y = df['charges']\n",
    "\n",
    "# Split the data into training and testing sets\n",
    "from sklearn.model_selection import train_test_split\n",
    "X_train, X_test, y_train, y_test = train_test_split(X, y, test_size=0.2, random_state=42)\n",
    "\n",
    "# Fit a linear regression model to the training data\n",
    "from sklearn.linear_model import LinearRegression\n",
    "model = LinearRegression()\n",
    "model.fit(X_train, y_train)\n",
    "\n",
    "# Make predictions on the test data\n",
    "y_pred = model.predict(X_test)\n",
    "\n",
    "# Calculate the RMSE\n",
    "rmse = np.sqrt(mean_squared_error(y_test, y_pred))\n",
    "\n",
    "# Calculate the percentage error\n",
    "percentage_error = rmse / np.mean(y_test) * 100\n",
    "\n",
    "print('Root Mean Squared Error:', rmse)\n",
    "print('Percentage Error:', percentage_error)"
   ]
  },
  {
   "cell_type": "markdown",
   "id": "c6951543",
   "metadata": {},
   "source": [
    "## 11. Give the 95% confidence interval for average charge insurance.\n",
    "\n",
    "To calculate the 95% confidence interval for the average insurance charges, we can use the t-distribution. Here's the Python code to calculate the confidence interval:"
   ]
  },
  {
   "cell_type": "code",
   "execution_count": 16,
   "id": "237f0988",
   "metadata": {},
   "outputs": [
    {
     "name": "stdout",
     "output_type": "stream",
     "text": [
      "The 95% confidence interval for the average insurance charges is: (12416.00,13674.69)\n"
     ]
    }
   ],
   "source": [
    "# calculate the sample mean and standard error\n",
    "sample_mean = np.mean(data['charges'])\n",
    "standard_error = stats.sem(data['charges'])\n",
    "\n",
    "# calculate the t-value for a 95% confidence interval with (n-1) degrees of freedom\n",
    "t_value = stats.t.ppf(0.975, df=len(data)-1)\n",
    "\n",
    "# calculate the confidence interval\n",
    "lower_ci = sample_mean - t_value*standard_error\n",
    "upper_ci = sample_mean + t_value*standard_error\n",
    "\n",
    "print(\"The 95% confidence interval for the average insurance charges is: ({:.2f},{:.2f})\".format(lower_ci, upper_ci))"
   ]
  }
 ],
 "metadata": {
  "kernelspec": {
   "display_name": "Python 3 (ipykernel)",
   "language": "python",
   "name": "python3"
  },
  "language_info": {
   "codemirror_mode": {
    "name": "ipython",
    "version": 3
   },
   "file_extension": ".py",
   "mimetype": "text/x-python",
   "name": "python",
   "nbconvert_exporter": "python",
   "pygments_lexer": "ipython3",
   "version": "3.9.13"
  }
 },
 "nbformat": 4,
 "nbformat_minor": 5
}
